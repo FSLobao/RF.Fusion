{
 "cells": [
  {
   "attachments": {},
   "cell_type": "markdown",
   "metadata": {},
   "source": [
    "# Zbx Clean RFEye\n",
    "\n",
    "This notebook was created to perform semi-automatic cleaning of Zabbix database by interacting with files for mass data review and update.\n",
    "\n",
    "This was designed to work with the hosts associated with the CRFS RFEye Node Equipments\n",
    "\n",
    "For more information about the zabbix Python library: https://github.com/lukecyca/pyzabbix\n",
    "\n",
    "Zabbix API documentation at: https://www.zabbix.com/documentation/current/en/manual/api/reference\n",
    "\n",
    "### Environment setup"
   ]
  },
  {
   "cell_type": "code",
   "execution_count": 1,
   "metadata": {},
   "outputs": [],
   "source": [
    "URL_ZABBIX = \"http://zabbixsfi.anatel.gov.br/\"\n",
    "TOKEN_ZABBIX = \"<PASTE SUPER ADMIN TOKEN HERE>\"\n",
    "\n",
    "HOST_DATA = [\"hostids\", \"host\", \"name\", \"status\"]\n",
    "INTER_DATA = [\"interfaceid\",\"hostid\",\"type\",\"ip\",\"dns\",\"main\"]\n",
    "GROUP_DATA = [\"groupid\",\"name\"]\n",
    "\n",
    "HOST_INTER_CSV = \"zbxHostInterface.csv\"\n",
    "HOST_GROUP_CSV = \"zbxHostGroup.csv\"\n",
    "\n",
    "CLEAN_DATA = \"ZabbixClean.xlsx\"\n",
    "LINK_SHEET = \"OutEnlace\"\n",
    "RFEYE_SHEET = \"OutRFEye\"\n",
    "RMU_SHEET = \"OutRMU\"\n",
    "OTHER_SHEET = \"OutOutros\""
   ]
  },
  {
   "attachments": {},
   "cell_type": "markdown",
   "metadata": {},
   "source": [
    "### Includes"
   ]
  },
  {
   "cell_type": "code",
   "execution_count": 3,
   "metadata": {},
   "outputs": [],
   "source": [
    "from pyzabbix import ZabbixAPI\n",
    "\n",
    "import pandas as pd\n",
    "import numpy as np"
   ]
  },
  {
   "attachments": {},
   "cell_type": "markdown",
   "metadata": {},
   "source": [
    "### Create session"
   ]
  },
  {
   "cell_type": "code",
   "execution_count": 5,
   "metadata": {},
   "outputs": [],
   "source": [
    "zapi = ZabbixAPI(URL_ZABBIX)\n",
    "\n",
    "zapi.session.verify = False # Disable SSL certificate verification\n",
    "\n",
    "zapi.timeout = 5.1 #seconds\n",
    "\n",
    "zapi.login(api_token=TOKEN_ZABBIX)"
   ]
  },
  {
   "attachments": {},
   "cell_type": "markdown",
   "metadata": {},
   "source": [
    "# Extract essential data from Zabbix server to be used in data cleaning operation"
   ]
  },
  {
   "attachments": {},
   "cell_type": "markdown",
   "metadata": {},
   "source": [
    "### Load host data"
   ]
  },
  {
   "cell_type": "code",
   "execution_count": 8,
   "metadata": {},
   "outputs": [],
   "source": [
    "zbx_dict = zapi.host.get(output=HOST_DATA)\n",
    "\n",
    "df_host = pd.DataFrame(zbx_dict)"
   ]
  },
  {
   "attachments": {},
   "cell_type": "markdown",
   "metadata": {},
   "source": [
    "### Load interface data"
   ]
  },
  {
   "cell_type": "code",
   "execution_count": 6,
   "metadata": {},
   "outputs": [],
   "source": [
    "zbx_dict = zapi.hostinterface.get(output=INTER_DATA)\n",
    "\n",
    "df_inter = pd.DataFrame(zbx_dict)"
   ]
  },
  {
   "attachments": {},
   "cell_type": "markdown",
   "metadata": {},
   "source": [
    "### Combine all data into a single table\n",
    "\n",
    "Note that hosts with multiple interfaces will show up in multiple rows"
   ]
  },
  {
   "cell_type": "code",
   "execution_count": 9,
   "metadata": {},
   "outputs": [],
   "source": [
    "df_full = pd.merge(df_host, df_inter, how='inner', left_on = 'hostid', right_on = 'hostid')"
   ]
  },
  {
   "attachments": {},
   "cell_type": "markdown",
   "metadata": {},
   "source": [
    "### Export host and interface data for external processing using CSV format\n",
    "\n",
    "At this point one should export data from zabbix and manipulate to create a clean XLSX spreadsheet that shall be used for the new configuration"
   ]
  },
  {
   "cell_type": "code",
   "execution_count": 10,
   "metadata": {},
   "outputs": [],
   "source": [
    "df_full.to_csv(HOST_INTER_CSV)"
   ]
  },
  {
   "attachments": {},
   "cell_type": "markdown",
   "metadata": {},
   "source": [
    "# Import clean data for RFEye Stations"
   ]
  },
  {
   "cell_type": "code",
   "execution_count": 5,
   "metadata": {},
   "outputs": [],
   "source": [
    "df_clean_data = pd.read_excel(CLEAN_DATA, sheet_name=RFEYE_SHEET)"
   ]
  },
  {
   "cell_type": "code",
   "execution_count": 6,
   "metadata": {},
   "outputs": [
    {
     "data": {
      "text/html": [
       "<div>\n",
       "<style scoped>\n",
       "    .dataframe tbody tr th:only-of-type {\n",
       "        vertical-align: middle;\n",
       "    }\n",
       "\n",
       "    .dataframe tbody tr th {\n",
       "        vertical-align: top;\n",
       "    }\n",
       "\n",
       "    .dataframe thead th {\n",
       "        text-align: right;\n",
       "    }\n",
       "</style>\n",
       "<table border=\"1\" class=\"dataframe\">\n",
       "  <thead>\n",
       "    <tr style=\"text-align: right;\">\n",
       "      <th></th>\n",
       "      <th>hostid</th>\n",
       "      <th>host</th>\n",
       "      <th>name</th>\n",
       "      <th>status</th>\n",
       "      <th>interfaceid</th>\n",
       "      <th>type</th>\n",
       "      <th>ip</th>\n",
       "      <th>dns</th>\n",
       "      <th>N_host_Oficial</th>\n",
       "      <th>N_host_status</th>\n",
       "      <th>...</th>\n",
       "      <th>N_host_grp_Detentor</th>\n",
       "      <th>N_host_grp_Situação</th>\n",
       "      <th>N_host_grp_Tipo</th>\n",
       "      <th>N_host_grp_Modelo</th>\n",
       "      <th>N_host_grp_teste</th>\n",
       "      <th>N_host_grp_OVPN</th>\n",
       "      <th>IP</th>\n",
       "      <th>DNS</th>\n",
       "      <th>Série</th>\n",
       "      <th>Índice</th>\n",
       "    </tr>\n",
       "  </thead>\n",
       "  <tbody>\n",
       "    <tr>\n",
       "      <th>0</th>\n",
       "      <td>10613</td>\n",
       "      <td>RFEye002073_OVPN</td>\n",
       "      <td>RFEye002073_OVPN</td>\n",
       "      <td>1</td>\n",
       "      <td>383</td>\n",
       "      <td>2</td>\n",
       "      <td>&lt;ip address&gt;</td>\n",
       "      <td>rfeye002073.rfeyenodes.com</td>\n",
       "      <td>False</td>\n",
       "      <td>1</td>\n",
       "      <td>...</td>\n",
       "      <td>NaN</td>\n",
       "      <td>NaN</td>\n",
       "      <td>NaN</td>\n",
       "      <td>NaN</td>\n",
       "      <td>NaN</td>\n",
       "      <td>OVPN</td>\n",
       "      <td>NaN</td>\n",
       "      <td>rfeye002073.anatel.gov.br</td>\n",
       "      <td>2073</td>\n",
       "      <td>55</td>\n",
       "    </tr>\n",
       "    <tr>\n",
       "      <th>1</th>\n",
       "      <td>10365</td>\n",
       "      <td>RFEye002076_OVPN</td>\n",
       "      <td>RFEye002076_OVPN</td>\n",
       "      <td>1</td>\n",
       "      <td>58</td>\n",
       "      <td>2</td>\n",
       "      <td>&lt;ip address&gt;</td>\n",
       "      <td>rfeye002076.rfeyenodes.com</td>\n",
       "      <td>False</td>\n",
       "      <td>1</td>\n",
       "      <td>...</td>\n",
       "      <td>NaN</td>\n",
       "      <td>NaN</td>\n",
       "      <td>NaN</td>\n",
       "      <td>NaN</td>\n",
       "      <td>NaN</td>\n",
       "      <td>OVPN</td>\n",
       "      <td>NaN</td>\n",
       "      <td>rfeye002076.anatel.gov.br</td>\n",
       "      <td>2076</td>\n",
       "      <td>56</td>\n",
       "    </tr>\n",
       "    <tr>\n",
       "      <th>2</th>\n",
       "      <td>10366</td>\n",
       "      <td>RFEye002079_OVPN</td>\n",
       "      <td>RFEye002079_OVPN</td>\n",
       "      <td>1</td>\n",
       "      <td>59</td>\n",
       "      <td>2</td>\n",
       "      <td>&lt;ip address&gt;</td>\n",
       "      <td>rfeye002079.rfeyenodes.com</td>\n",
       "      <td>False</td>\n",
       "      <td>1</td>\n",
       "      <td>...</td>\n",
       "      <td>NaN</td>\n",
       "      <td>NaN</td>\n",
       "      <td>NaN</td>\n",
       "      <td>NaN</td>\n",
       "      <td>NaN</td>\n",
       "      <td>OVPN</td>\n",
       "      <td>NaN</td>\n",
       "      <td>rfeye002079.anatel.gov.br</td>\n",
       "      <td>2079</td>\n",
       "      <td>57</td>\n",
       "    </tr>\n",
       "    <tr>\n",
       "      <th>3</th>\n",
       "      <td>10614</td>\n",
       "      <td>RFEye002081_OVPN</td>\n",
       "      <td>RFEye002081_OVPN</td>\n",
       "      <td>1</td>\n",
       "      <td>384</td>\n",
       "      <td>2</td>\n",
       "      <td>&lt;ip address&gt;</td>\n",
       "      <td>rfeye002081.rfeyenodes.com</td>\n",
       "      <td>False</td>\n",
       "      <td>1</td>\n",
       "      <td>...</td>\n",
       "      <td>NaN</td>\n",
       "      <td>NaN</td>\n",
       "      <td>NaN</td>\n",
       "      <td>NaN</td>\n",
       "      <td>NaN</td>\n",
       "      <td>OVPN</td>\n",
       "      <td>&lt;IP Address&gt;</td>\n",
       "      <td>rfeye002081.anatel.gov.br</td>\n",
       "      <td>2081</td>\n",
       "      <td>59</td>\n",
       "    </tr>\n",
       "    <tr>\n",
       "      <th>4</th>\n",
       "      <td>10496</td>\n",
       "      <td>RFEye002083_OVPN</td>\n",
       "      <td>RFEye002083_OVPN</td>\n",
       "      <td>1</td>\n",
       "      <td>189</td>\n",
       "      <td>2</td>\n",
       "      <td>&lt;ip address&gt;</td>\n",
       "      <td>rfeye002083.rfeyenodes.com</td>\n",
       "      <td>False</td>\n",
       "      <td>1</td>\n",
       "      <td>...</td>\n",
       "      <td>NaN</td>\n",
       "      <td>NaN</td>\n",
       "      <td>NaN</td>\n",
       "      <td>NaN</td>\n",
       "      <td>NaN</td>\n",
       "      <td>OVPN</td>\n",
       "      <td>&lt;IP Address&gt;</td>\n",
       "      <td>rfeye002083.anatel.gov.br</td>\n",
       "      <td>2083</td>\n",
       "      <td>60</td>\n",
       "    </tr>\n",
       "    <tr>\n",
       "      <th>...</th>\n",
       "      <td>...</td>\n",
       "      <td>...</td>\n",
       "      <td>...</td>\n",
       "      <td>...</td>\n",
       "      <td>...</td>\n",
       "      <td>...</td>\n",
       "      <td>...</td>\n",
       "      <td>...</td>\n",
       "      <td>...</td>\n",
       "      <td>...</td>\n",
       "      <td>...</td>\n",
       "      <td>...</td>\n",
       "      <td>...</td>\n",
       "      <td>...</td>\n",
       "      <td>...</td>\n",
       "      <td>...</td>\n",
       "      <td>...</td>\n",
       "      <td>...</td>\n",
       "      <td>...</td>\n",
       "      <td>...</td>\n",
       "      <td>...</td>\n",
       "    </tr>\n",
       "    <tr>\n",
       "      <th>295</th>\n",
       "      <td>10542</td>\n",
       "      <td>RFEye002328_OVPN</td>\n",
       "      <td>RFEye002328_OVPN</td>\n",
       "      <td>1</td>\n",
       "      <td>235</td>\n",
       "      <td>2</td>\n",
       "      <td>&lt;ip address&gt;</td>\n",
       "      <td>rfeye002328.rfeyenodes.com</td>\n",
       "      <td>True</td>\n",
       "      <td>1</td>\n",
       "      <td>...</td>\n",
       "      <td>GR08</td>\n",
       "      <td>Ativo</td>\n",
       "      <td>Estação</td>\n",
       "      <td>RFeye</td>\n",
       "      <td>NaN</td>\n",
       "      <td>NaN</td>\n",
       "      <td>&lt;IP Address&gt;</td>\n",
       "      <td>rfeye002328.anatel.gov.br</td>\n",
       "      <td>2328</td>\n",
       "      <td>239</td>\n",
       "    </tr>\n",
       "    <tr>\n",
       "      <th>296</th>\n",
       "      <td>10543</td>\n",
       "      <td>RFEye002330_OVPN</td>\n",
       "      <td>RFEye002330_OVPN</td>\n",
       "      <td>1</td>\n",
       "      <td>236</td>\n",
       "      <td>2</td>\n",
       "      <td>&lt;ip address&gt;</td>\n",
       "      <td>rfeye002330.rfeyenodes.com</td>\n",
       "      <td>True</td>\n",
       "      <td>1</td>\n",
       "      <td>...</td>\n",
       "      <td>GR01</td>\n",
       "      <td>Litígio</td>\n",
       "      <td>Estação</td>\n",
       "      <td>RFeye</td>\n",
       "      <td>NaN</td>\n",
       "      <td>NaN</td>\n",
       "      <td>NaN</td>\n",
       "      <td>rfeye002330.anatel.gov.br</td>\n",
       "      <td>2330</td>\n",
       "      <td>240</td>\n",
       "    </tr>\n",
       "    <tr>\n",
       "      <th>297</th>\n",
       "      <td>10673</td>\n",
       "      <td>RFEye002332</td>\n",
       "      <td>RFEye002332</td>\n",
       "      <td>0</td>\n",
       "      <td>443</td>\n",
       "      <td>2</td>\n",
       "      <td>&lt;ip address&gt;</td>\n",
       "      <td>rfeye002332.rfeyenodes.com</td>\n",
       "      <td>True</td>\n",
       "      <td>0</td>\n",
       "      <td>...</td>\n",
       "      <td>GR01</td>\n",
       "      <td>Ativo</td>\n",
       "      <td>Estação</td>\n",
       "      <td>RFeye</td>\n",
       "      <td>NaN</td>\n",
       "      <td>NaN</td>\n",
       "      <td>&lt;IP Address&gt;</td>\n",
       "      <td>rfeye002332.anatel.gov.br</td>\n",
       "      <td>2332</td>\n",
       "      <td>241</td>\n",
       "    </tr>\n",
       "    <tr>\n",
       "      <th>298</th>\n",
       "      <td>10545</td>\n",
       "      <td>RFEye002345</td>\n",
       "      <td>RFEye002345</td>\n",
       "      <td>0</td>\n",
       "      <td>238</td>\n",
       "      <td>2</td>\n",
       "      <td>&lt;ip address&gt;</td>\n",
       "      <td>NaN</td>\n",
       "      <td>True</td>\n",
       "      <td>0</td>\n",
       "      <td>...</td>\n",
       "      <td>GR05</td>\n",
       "      <td>Ativo</td>\n",
       "      <td>Estação</td>\n",
       "      <td>RFeye</td>\n",
       "      <td>NaN</td>\n",
       "      <td>NaN</td>\n",
       "      <td>&lt;IP Address&gt;</td>\n",
       "      <td>rfeye002345.anatel.gov.br</td>\n",
       "      <td>2345</td>\n",
       "      <td>242</td>\n",
       "    </tr>\n",
       "    <tr>\n",
       "      <th>299</th>\n",
       "      <td>10675</td>\n",
       "      <td>RFEye002349</td>\n",
       "      <td>RFEye002349</td>\n",
       "      <td>0</td>\n",
       "      <td>445</td>\n",
       "      <td>2</td>\n",
       "      <td>&lt;ip address&gt;</td>\n",
       "      <td>NaN</td>\n",
       "      <td>True</td>\n",
       "      <td>0</td>\n",
       "      <td>...</td>\n",
       "      <td>GR01</td>\n",
       "      <td>Ativo</td>\n",
       "      <td>Estação</td>\n",
       "      <td>RFeye</td>\n",
       "      <td>NaN</td>\n",
       "      <td>NaN</td>\n",
       "      <td>&lt;IP Address&gt;</td>\n",
       "      <td>rfeye002349.anatel.gov.br</td>\n",
       "      <td>2349</td>\n",
       "      <td>243</td>\n",
       "    </tr>\n",
       "  </tbody>\n",
       "</table>\n",
       "<p>300 rows × 35 columns</p>\n",
       "</div>"
      ],
      "text/plain": [
       "     hostid              host              name  status  interfaceid  type   \n",
       "0     10613  RFEye002073_OVPN  RFEye002073_OVPN       1          383     2  \\\n",
       "1     10365  RFEye002076_OVPN  RFEye002076_OVPN       1           58     2   \n",
       "2     10366  RFEye002079_OVPN  RFEye002079_OVPN       1           59     2   \n",
       "3     10614  RFEye002081_OVPN  RFEye002081_OVPN       1          384     2   \n",
       "4     10496  RFEye002083_OVPN  RFEye002083_OVPN       1          189     2   \n",
       "..      ...               ...               ...     ...          ...   ...   \n",
       "295   10542  RFEye002328_OVPN  RFEye002328_OVPN       1          235     2   \n",
       "296   10543  RFEye002330_OVPN  RFEye002330_OVPN       1          236     2   \n",
       "297   10673       RFEye002332       RFEye002332       0          443     2   \n",
       "298   10545       RFEye002345       RFEye002345       0          238     2   \n",
       "299   10675       RFEye002349       RFEye002349       0          445     2   \n",
       "\n",
       "               ip                         dns  N_host_Oficial  N_host_status   \n",
       "0    <ip address>  rfeye002073.rfeyenodes.com           False              1  \\\n",
       "1    <ip address>  rfeye002076.rfeyenodes.com           False              1   \n",
       "2    <ip address>  rfeye002079.rfeyenodes.com           False              1   \n",
       "3    <ip address>  rfeye002081.rfeyenodes.com           False              1   \n",
       "4    <ip address>  rfeye002083.rfeyenodes.com           False              1   \n",
       "..            ...                         ...             ...            ...   \n",
       "295  <ip address>  rfeye002328.rfeyenodes.com            True              1   \n",
       "296  <ip address>  rfeye002330.rfeyenodes.com            True              1   \n",
       "297  <ip address>  rfeye002332.rfeyenodes.com            True              0   \n",
       "298  <ip address>                         NaN            True              0   \n",
       "299  <ip address>                         NaN            True              0   \n",
       "\n",
       "     ... N_host_grp_Detentor N_host_grp_Situação N_host_grp_Tipo   \n",
       "0    ...                 NaN                 NaN             NaN  \\\n",
       "1    ...                 NaN                 NaN             NaN   \n",
       "2    ...                 NaN                 NaN             NaN   \n",
       "3    ...                 NaN                 NaN             NaN   \n",
       "4    ...                 NaN                 NaN             NaN   \n",
       "..   ...                 ...                 ...             ...   \n",
       "295  ...                GR08               Ativo         Estação   \n",
       "296  ...                GR01             Litígio         Estação   \n",
       "297  ...                GR01               Ativo         Estação   \n",
       "298  ...                GR05               Ativo         Estação   \n",
       "299  ...                GR01               Ativo         Estação   \n",
       "\n",
       "    N_host_grp_Modelo N_host_grp_teste N_host_grp_OVPN            IP   \n",
       "0                 NaN              NaN            OVPN           NaN  \\\n",
       "1                 NaN              NaN            OVPN           NaN   \n",
       "2                 NaN              NaN            OVPN           NaN   \n",
       "3                 NaN              NaN            OVPN  <IP Address>   \n",
       "4                 NaN              NaN            OVPN  <IP Address>   \n",
       "..                ...              ...             ...           ...   \n",
       "295             RFeye              NaN             NaN  <IP Address>   \n",
       "296             RFeye              NaN             NaN           NaN   \n",
       "297             RFeye              NaN             NaN  <IP Address>   \n",
       "298             RFeye              NaN             NaN  <IP Address>   \n",
       "299             RFeye              NaN             NaN  <IP Address>   \n",
       "\n",
       "                           DNS Série  Índice  \n",
       "0    rfeye002073.anatel.gov.br  2073      55  \n",
       "1    rfeye002076.anatel.gov.br  2076      56  \n",
       "2    rfeye002079.anatel.gov.br  2079      57  \n",
       "3    rfeye002081.anatel.gov.br  2081      59  \n",
       "4    rfeye002083.anatel.gov.br  2083      60  \n",
       "..                         ...   ...     ...  \n",
       "295  rfeye002328.anatel.gov.br  2328     239  \n",
       "296  rfeye002330.anatel.gov.br  2330     240  \n",
       "297  rfeye002332.anatel.gov.br  2332     241  \n",
       "298  rfeye002345.anatel.gov.br  2345     242  \n",
       "299  rfeye002349.anatel.gov.br  2349     243  \n",
       "\n",
       "[300 rows x 35 columns]"
      ]
     },
     "execution_count": 6,
     "metadata": {},
     "output_type": "execute_result"
    }
   ],
   "source": [
    "df_clean_data"
   ]
  },
  {
   "attachments": {},
   "cell_type": "markdown",
   "metadata": {},
   "source": [
    "# Update Group"
   ]
  },
  {
   "attachments": {},
   "cell_type": "markdown",
   "metadata": {},
   "source": [
    "### List all groups"
   ]
  },
  {
   "cell_type": "code",
   "execution_count": 17,
   "metadata": {},
   "outputs": [
    {
     "data": {
      "text/plain": [
       "Index(['hostid', 'host', 'name', 'status', 'interfaceid', 'type', 'ip', 'dns',\n",
       "       'Tem OVPN?', 'Tem Teste?', 'N_host_status', 'N_host_name',\n",
       "       'N_host_tag_Local', 'N_host_tag_Município', 'N_host_inv_lat',\n",
       "       'N_host_inv_lon', 'N_host_inv_city', 'N_host_inv_state',\n",
       "       'N_host_inv_poc_1_notes', 'N_host_inv_alias', 'N_host_inv_Asset tag',\n",
       "       'N_host_inv_Tag', 'N_host_inv_Type', 'N_host_inv_Model',\n",
       "       'N_host_inv_Vendor', 'N_host_grp_UF', 'N_host_grp_Detentor',\n",
       "       'N_host_grp_Situação', 'N_host_grp_Tipo', 'N_host_grp_Modelo',\n",
       "       'N_host_grp_teste', 'N_host_grp_OVPN', 'IP', 'DNS', 'Série', 'Índice'],\n",
       "      dtype='object')"
      ]
     },
     "execution_count": 17,
     "metadata": {},
     "output_type": "execute_result"
    }
   ],
   "source": [
    "df_clean_data.columns"
   ]
  },
  {
   "cell_type": "code",
   "execution_count": 18,
   "metadata": {},
   "outputs": [],
   "source": [
    "zbx_dict = zapi.hostgroup.get(output=GROUP_DATA)\n",
    "\n",
    "df_group = pd.DataFrame(zbx_dict)"
   ]
  },
  {
   "cell_type": "code",
   "execution_count": 19,
   "metadata": {},
   "outputs": [
    {
     "data": {
      "text/html": [
       "<div>\n",
       "<style scoped>\n",
       "    .dataframe tbody tr th:only-of-type {\n",
       "        vertical-align: middle;\n",
       "    }\n",
       "\n",
       "    .dataframe tbody tr th {\n",
       "        vertical-align: top;\n",
       "    }\n",
       "\n",
       "    .dataframe thead th {\n",
       "        text-align: right;\n",
       "    }\n",
       "</style>\n",
       "<table border=\"1\" class=\"dataframe\">\n",
       "  <thead>\n",
       "    <tr style=\"text-align: right;\">\n",
       "      <th></th>\n",
       "      <th>groupid</th>\n",
       "      <th>name</th>\n",
       "    </tr>\n",
       "  </thead>\n",
       "  <tbody>\n",
       "    <tr>\n",
       "      <th>0</th>\n",
       "      <td>22</td>\n",
       "      <td>AC</td>\n",
       "    </tr>\n",
       "    <tr>\n",
       "      <th>1</th>\n",
       "      <td>23</td>\n",
       "      <td>AL</td>\n",
       "    </tr>\n",
       "    <tr>\n",
       "      <th>2</th>\n",
       "      <td>21</td>\n",
       "      <td>AM</td>\n",
       "    </tr>\n",
       "    <tr>\n",
       "      <th>3</th>\n",
       "      <td>24</td>\n",
       "      <td>AP</td>\n",
       "    </tr>\n",
       "    <tr>\n",
       "      <th>4</th>\n",
       "      <td>50</td>\n",
       "      <td>Anatel Templates</td>\n",
       "    </tr>\n",
       "    <tr>\n",
       "      <th>...</th>\n",
       "      <td>...</td>\n",
       "      <td>...</td>\n",
       "    </tr>\n",
       "    <tr>\n",
       "      <th>116</th>\n",
       "      <td>110</td>\n",
       "      <td>UO113</td>\n",
       "    </tr>\n",
       "    <tr>\n",
       "      <th>117</th>\n",
       "      <td>69</td>\n",
       "      <td>Unidade Administrativa da Anatel</td>\n",
       "    </tr>\n",
       "    <tr>\n",
       "      <th>118</th>\n",
       "      <td>6</td>\n",
       "      <td>Virtual machines</td>\n",
       "    </tr>\n",
       "    <tr>\n",
       "      <th>119</th>\n",
       "      <td>4</td>\n",
       "      <td>Zabbix servers</td>\n",
       "    </tr>\n",
       "    <tr>\n",
       "      <th>120</th>\n",
       "      <td>78</td>\n",
       "      <td>xDSL</td>\n",
       "    </tr>\n",
       "  </tbody>\n",
       "</table>\n",
       "<p>121 rows × 2 columns</p>\n",
       "</div>"
      ],
      "text/plain": [
       "    groupid                              name\n",
       "0        22                                AC\n",
       "1        23                                AL\n",
       "2        21                                AM\n",
       "3        24                                AP\n",
       "4        50                  Anatel Templates\n",
       "..      ...                               ...\n",
       "116     110                             UO113\n",
       "117      69  Unidade Administrativa da Anatel\n",
       "118       6                  Virtual machines\n",
       "119       4                    Zabbix servers\n",
       "120      78                              xDSL\n",
       "\n",
       "[121 rows x 2 columns]"
      ]
     },
     "execution_count": 19,
     "metadata": {},
     "output_type": "execute_result"
    }
   ],
   "source": [
    "df_group"
   ]
  },
  {
   "attachments": {},
   "cell_type": "markdown",
   "metadata": {},
   "source": [
    "### Create a dictionary with the groups to be processed"
   ]
  },
  {
   "cell_type": "code",
   "execution_count": 20,
   "metadata": {},
   "outputs": [],
   "source": [
    "all_groups = {  'N_host_grp_UF':[],\n",
    "                'N_host_grp_Detentor':[],\n",
    "                'N_host_grp_Situação':[],\n",
    "                'N_host_grp_Tipo':[],\n",
    "                'N_host_grp_Modelo':[],\n",
    "                'N_host_grp_teste':[],\n",
    "                'N_host_grp_OVPN':[]}\n",
    "\n",
    "for group in all_groups:\n",
    "    np_array = df_clean_data[group].unique()\n",
    "\n",
    "    np_array = np_array[~pd.isna(np_array)] # remove NaN \n",
    "\n",
    "    all_groups[group] = np_array.tolist()"
   ]
  },
  {
   "attachments": {},
   "cell_type": "markdown",
   "metadata": {},
   "source": [
    "### Create groups in Zabbix if necessary and associate all data within the dataframe with clean data"
   ]
  },
  {
   "cell_type": "code",
   "execution_count": 21,
   "metadata": {},
   "outputs": [],
   "source": [
    "for group_list in all_groups:\n",
    "    \n",
    "    zbx_group = {'groupid':[0]*all_groups[group_list].__len__(),\n",
    "                 'name':[\"\"]*all_groups[group_list].__len__()}\n",
    "    i = 0\n",
    "    \n",
    "    for group in all_groups[group_list]:\n",
    "        \n",
    "        where_is_group = df_group[df_group.isin([group])].stack().index #get the index from where the group is in the df from zabbix\n",
    "        \n",
    "        if len(where_is_group) == 0: #check if the group don't exist in zabbix\n",
    "            \n",
    "            zbx_dict = zapi.hostgroup.create(name=group)\n",
    "\n",
    "            zbx_group['groupid'][i] = zbx_dict['groupids']\n",
    "            zbx_group['name'][i] = group[0]\n",
    "        else:\n",
    "            index = where_is_group.to_numpy()[0][0]\n",
    "            \n",
    "            zbx_group['groupid'][i] = df_group['groupid'][index]\n",
    "            zbx_group['name'][i] = df_group['name'][index]\n",
    "            \n",
    "        i = i + 1\n",
    "        \n",
    "    df_zbx_group = pd.DataFrame(zbx_group)\n",
    "    \n",
    "    df_clean_data = pd.merge(df_clean_data, df_zbx_group, how='left', left_on = group_list, right_on = 'name')\n",
    "    \n",
    "    df_clean_data = df_clean_data.rename(columns={\"groupid\": f\"GID {group_list}\", \"name\": f\"zbx {group_list}\"})"
   ]
  },
  {
   "attachments": {},
   "cell_type": "markdown",
   "metadata": {},
   "source": [
    "### Get hosts assigned to groups (BACKUP)"
   ]
  },
  {
   "cell_type": "code",
   "execution_count": 22,
   "metadata": {},
   "outputs": [],
   "source": [
    "def get_group_host(zapi, df_clean_data):\n",
    "\n",
    "    GROUP_DATA = [\"groupid\", \"name\"]\n",
    "    \n",
    "    df_output = pd.DataFrame(columns=['groupid', 'name', 'hostid'])\n",
    "\n",
    "    for hostid in df_clean_data[\"hostid\"].to_list():\n",
    "        zbx_dict = zapi.hostgroup.get(output=GROUP_DATA, hostids=hostid)\n",
    "        \n",
    "        df = pd.DataFrame(zbx_dict)\n",
    "        df['hostid']=hostid\n",
    "        \n",
    "        df_output = pd.concat([df_output,df],ignore_index=True)\n",
    "        \n",
    "    return df_output\n",
    "\n",
    "# df_host_group = get_group_host(zapi, df_clean_data)\n",
    "# df_host_group\n",
    "# df_host_group.to_csv(HOST_GROUP_CSV)"
   ]
  },
  {
   "attachments": {},
   "cell_type": "markdown",
   "metadata": {},
   "source": [
    "### Create a list of dictionaries with groups to be removed"
   ]
  },
  {
   "cell_type": "code",
   "execution_count": null,
   "metadata": {},
   "outputs": [],
   "source": [
    "group_dic_list=[]\n",
    "\n",
    "df = df_group.sort_values(by=[\"groupid\"])\n",
    "group_list = df['groupid'].to_list()[1:] # get group list except the first\n",
    "\n",
    "for group in group_list:\n",
    "    group_dic_list.append({'groupid':group})"
   ]
  },
  {
   "attachments": {},
   "cell_type": "markdown",
   "metadata": {},
   "source": [
    "### Create a list of dictionaries with host to be edited"
   ]
  },
  {
   "cell_type": "code",
   "execution_count": null,
   "metadata": {},
   "outputs": [],
   "source": [
    "host_dic_list=[]\n",
    "\n",
    "host_list = df_clean_data[\"hostid\"].to_list()\n",
    "\n",
    "for host in host_list:\n",
    "    host_dic_list.append({'hostid':host})"
   ]
  },
  {
   "attachments": {},
   "cell_type": "markdown",
   "metadata": {},
   "source": [
    "### Select a reference default group"
   ]
  },
  {
   "cell_type": "code",
   "execution_count": null,
   "metadata": {},
   "outputs": [],
   "source": [
    "default_group = df['groupid'].to_list()[0]\n",
    "\n",
    "group_List_dict = [{'groupid':default_group}]"
   ]
  },
  {
   "attachments": {},
   "cell_type": "markdown",
   "metadata": {},
   "source": [
    "### Add group 1 to all hosts to be edited"
   ]
  },
  {
   "cell_type": "code",
   "execution_count": null,
   "metadata": {},
   "outputs": [],
   "source": [
    "for host in host_list:\n",
    "    zbx_dict = zapi.hostgroup.massadd(groups=group_List_dict, hosts=[{'hostid':host}])"
   ]
  },
  {
   "attachments": {},
   "cell_type": "markdown",
   "metadata": {},
   "source": [
    "### Remove all groups from hosts:[],\n",
    "except default_group"
   ]
  },
  {
   "cell_type": "code",
   "execution_count": null,
   "metadata": {},
   "outputs": [],
   "source": [
    "for host in host_list:\n",
    "    zbx_dict = zapi.hostgroup.massremove(groupids=group_list, hostids=host)"
   ]
  },
  {
   "attachments": {},
   "cell_type": "markdown",
   "metadata": {},
   "source": [
    "#### Add new groups from clean list"
   ]
  },
  {
   "cell_type": "code",
   "execution_count": null,
   "metadata": {},
   "outputs": [
    {
     "data": {
      "text/plain": [
       "0      None\n",
       "1      None\n",
       "2      None\n",
       "3      None\n",
       "4      None\n",
       "       ... \n",
       "300    None\n",
       "301    None\n",
       "302    None\n",
       "303    None\n",
       "304    None\n",
       "Length: 305, dtype: object"
      ]
     },
     "execution_count": 34,
     "metadata": {},
     "output_type": "execute_result"
    }
   ],
   "source": [
    "def add_group(host):\n",
    "    group_list = [{'groupid':host['GID N_host_grp_UF']},\n",
    "                  {'groupid':host['GID N_host_grp_Detentor']},\n",
    "                  {'groupid':host['GID N_host_grp_Situação']},\n",
    "                  {'groupid':host['GID N_host_grp_Tipo']},\n",
    "                  {'groupid':host['GID N_host_grp_Modelo']},\n",
    "                  {'groupid':host['GID N_host_grp_teste']},\n",
    "                  {'groupid':host['GID N_host_grp_OVPN']}]\n",
    "    \n",
    "    group_list = [item for item in group_list if isinstance(item['groupid'], str)]\n",
    "                \n",
    "    zbx_dict = zapi.hostgroup.massadd(groups=group_list, hosts=[{'hostid':host['hostid']}])\n",
    "    \n",
    "none = df_clean_data.apply(add_group, axis=1)"
   ]
  },
  {
   "attachments": {},
   "cell_type": "markdown",
   "metadata": {},
   "source": [
    "### Remove default group"
   ]
  },
  {
   "cell_type": "code",
   "execution_count": null,
   "metadata": {},
   "outputs": [],
   "source": [
    "for host in host_list:\n",
    "    zbx_dict = zapi.hostgroup.massremove(groupids=[default_group], hostids=[host])"
   ]
  },
  {
   "attachments": {},
   "cell_type": "markdown",
   "metadata": {},
   "source": [
    "# Update Inventory"
   ]
  },
  {
   "attachments": {},
   "cell_type": "markdown",
   "metadata": {},
   "source": [
    "### Remove all inventory data"
   ]
  },
  {
   "cell_type": "code",
   "execution_count": null,
   "metadata": {},
   "outputs": [],
   "source": [
    "CLEAN_INVENTORY = { 'alias' : '',\n",
    "                    'asset_tag' : '',\n",
    "                    'chassis' : '',\n",
    "                    'contact' : '',\n",
    "                    'contract_number' : '',\n",
    "                    'date_hw_decomm' : '',\n",
    "                    'date_hw_expiry' : '',\n",
    "                    'date_hw_install' : '',\n",
    "                    'date_hw_purchase' : '',\n",
    "                    'deployment_status' : '',\n",
    "                    'hardware' : '',\n",
    "                    'hardware_full' : '',\n",
    "                    'host_netmask' : '',\n",
    "                    'host_networks' : '',\n",
    "                    'host_router' : '',\n",
    "                    'hw_arch' : '',\n",
    "                    'installer_name' : '',\n",
    "                    'location' : '',\n",
    "                    'location_lat' : '',\n",
    "                    'location_lon' : '',\n",
    "                    'macaddress_a' : '',\n",
    "                    'macaddress_b' : '',\n",
    "                    'model' : '',\n",
    "                    'name' : '',\n",
    "                    'notes' : '',\n",
    "                    'oob_ip' : '',\n",
    "                    'oob_netmask' : '',\n",
    "                    'oob_router' : '',\n",
    "                    'os' : '',\n",
    "                    'os_full' : '',\n",
    "                    'os_short' : '',\n",
    "                    'poc_1_cell' : '',\n",
    "                    'poc_1_email' : '',\n",
    "                    'poc_1_name' : '',\n",
    "                    'poc_1_notes' : '',\n",
    "                    'poc_1_phone_a' : '',\n",
    "                    'poc_1_phone_b' : '',\n",
    "                    'poc_1_screen' : '',\n",
    "                    'poc_2_cell' : '',\n",
    "                    'poc_2_email' : '',\n",
    "                    'poc_2_name' : '',\n",
    "                    'poc_2_notes' : '',\n",
    "                    'poc_2_phone_a' : '',\n",
    "                    'poc_2_phone_b' : '',\n",
    "                    'poc_2_screen' : '',\n",
    "                    'serialno_a' : '',\n",
    "                    'serialno_b' : '',\n",
    "                    'site_address_a' : '',\n",
    "                    'site_address_b' : '',\n",
    "                    'site_address_c' : '',\n",
    "                    'site_city' : '',\n",
    "                    'site_country' : '',\n",
    "                    'site_notes' : '',\n",
    "                    'site_rack' : '',\n",
    "                    'site_state' : '',\n",
    "                    'site_zip' : '',\n",
    "                    'software' : '',\n",
    "                    'software_app_a' : '',\n",
    "                    'software_app_b' : '',\n",
    "                    'software_app_c' : '',\n",
    "                    'software_app_d' : '',\n",
    "                    'software_app_e' : '',\n",
    "                    'software_full' : '',\n",
    "                    'tag' : '',\n",
    "                    'type' : '',\n",
    "                    'type_full' : '',\n",
    "                    'url_a' : '',\n",
    "                    'url_b' : '',\n",
    "                    'url_c' : '',\n",
    "                    'vendor' : ''}\n",
    "\n",
    "def set_inventory(host):    \n",
    "    zbx_dict = zapi.host.update(hostid=host['hostid'], inventory_mode='0', inventory=CLEAN_INVENTORY)\n",
    "    \n",
    "none = df_clean_data.apply(set_inventory, axis=1)"
   ]
  },
  {
   "attachments": {},
   "cell_type": "markdown",
   "metadata": {},
   "source": [
    "### Example of sigle inventory data"
   ]
  },
  {
   "cell_type": "code",
   "execution_count": 14,
   "metadata": {},
   "outputs": [
    {
     "data": {
      "text/plain": [
       "{'location_lat': '-19.932867',\n",
       " 'location_lon': '-43.948958',\n",
       " 'site_city': 'Belo Horizonte',\n",
       " 'site_state': 'MG',\n",
       " 'poc_1_notes': 'GR04',\n",
       " 'alias': 'GR04 (Almoxarifado)',\n",
       " 'asset_tag': '140034',\n",
       " 'tag': 'https://sistemas.anatel.gov.br/fiscaliza/issues/56828',\n",
       " 'type': 'Estação TDOA',\n",
       " 'model': 'Rfeye Node 20-120',\n",
       " 'vendor': 'CRFS'}"
      ]
     },
     "execution_count": 14,
     "metadata": {},
     "output_type": "execute_result"
    }
   ],
   "source": [
    "host = df_clean_data.iloc[220]\n",
    "\n",
    "inventory = {'location_lat' : f\"{host['N_host_inv_lat']}\",\n",
    "                 'location_lon' : f\"{host['N_host_inv_lon']}\",\n",
    "                 'site_city' :    host['N_host_inv_city'],\n",
    "                 'site_state' :   host['N_host_inv_state'],\n",
    "                 'poc_1_notes' :  host['N_host_inv_poc_1_notes'],\n",
    "                 'alias':         host['N_host_inv_alias'],\n",
    "                 'asset_tag':     f\"{host['N_host_inv_Asset tag']}\",\n",
    "                 'tag':           host['N_host_inv_Tag'],\n",
    "                 'type':          host['N_host_inv_Type'],\n",
    "                 'model':         host['N_host_inv_Model'],\n",
    "                 'vendor':        host['N_host_inv_Vendor']}\n",
    "\n",
    "inventory"
   ]
  },
  {
   "attachments": {},
   "cell_type": "markdown",
   "metadata": {},
   "source": [
    "Test example of removing NAN values from inventory item to avoid error with Zabbix API"
   ]
  },
  {
   "cell_type": "code",
   "execution_count": null,
   "metadata": {},
   "outputs": [],
   "source": [
    "inventory = [item for item in inventory if isinstance(item['groupid'], str) or isinstance(item['groupid'], str)]"
   ]
  },
  {
   "attachments": {},
   "cell_type": "markdown",
   "metadata": {},
   "source": [
    "### Add inventory data\n",
    "\n",
    "<code style=\"background:yellow;color:black\"><- Warning: Takes between 1 and 2 minutes to process -></code>"
   ]
  },
  {
   "cell_type": "code",
   "execution_count": 16,
   "metadata": {},
   "outputs": [],
   "source": [
    "def set_inventory(host):\n",
    "    # create a dictionary to be uploaded to zabbix using all data in the row and only text format, as required for zabbix\n",
    "    inventory = {'location_lat' : f\"{host['N_host_inv_lat']}\",\n",
    "                 'location_lon' : f\"{host['N_host_inv_lon']}\",\n",
    "                 'site_city' :    host['N_host_inv_city'],\n",
    "                 'site_state' :   host['N_host_inv_state'],\n",
    "                 'poc_1_notes' :  host['N_host_inv_poc_1_notes'],\n",
    "                 'alias':         host['N_host_inv_alias'],\n",
    "                 'asset_tag':     f\"{host['N_host_inv_Asset tag']}\",\n",
    "                 'tag':           host['N_host_inv_Tag'],\n",
    "                 'type':          host['N_host_inv_Type'],\n",
    "                 'model':         host['N_host_inv_Model'],\n",
    "                 'vendor':        host['N_host_inv_Vendor']}\n",
    "    \n",
    "    # remove from the dictionary any key,value pair where there is no valid information (different from str), e.g. null\n",
    "    inventory = {key: value for key, value in inventory.items() if isinstance(value, str)}\n",
    "    \n",
    "    zbx_dict = zapi.host.update(hostid=host['hostid'], inventory_mode='0', inventory=inventory)\n",
    "    \n",
    "none = df_clean_data.apply(set_inventory, axis=1)"
   ]
  },
  {
   "attachments": {},
   "cell_type": "markdown",
   "metadata": {},
   "source": [
    "# Update Tag data"
   ]
  },
  {
   "attachments": {},
   "cell_type": "markdown",
   "metadata": {},
   "source": [
    "### Clean Tags"
   ]
  },
  {
   "cell_type": "code",
   "execution_count": null,
   "metadata": {},
   "outputs": [],
   "source": [
    "def clean_tag(host):\n",
    "    zbx_dict = zapi.host.update(hostid=host['hostid'], tags={})\n",
    "    \n",
    "none = df_clean_data.apply(clean_tag, axis=1)"
   ]
  },
  {
   "attachments": {},
   "cell_type": "markdown",
   "metadata": {},
   "source": [
    "### Add tag data"
   ]
  },
  {
   "cell_type": "code",
   "execution_count": null,
   "metadata": {},
   "outputs": [],
   "source": [
    "def set_tag(host):\n",
    "    tag = [{'tag' : 'Local', 'value' : host['N_host_tag_Local']},\n",
    "           {'tag' : 'Município', 'value' : host['N_host_tag_Município']}]\n",
    "    \n",
    "    tag = [item for item in tag if isinstance(item['value'], str)]\n",
    "    \n",
    "    zbx_dict = zapi.host.update(hostid=host['hostid'], tags=tag)\n",
    "    \n",
    "none = df_clean_data.apply(set_tag, axis=1)"
   ]
  },
  {
   "attachments": {},
   "cell_type": "markdown",
   "metadata": {},
   "source": [
    "# Update host IP/DNS"
   ]
  },
  {
   "cell_type": "code",
   "execution_count": 11,
   "metadata": {},
   "outputs": [
    {
     "name": "stdout",
     "output_type": "stream",
     "text": [
      "----> ERROR: 222 - 200146174227\n",
      "('Error -32602: Invalid params., Invalid IP address \"200146174227\".', -32602)\n"
     ]
    }
   ],
   "source": [
    "# try to change IP information, logging error as output for later manual processing\n",
    "def update_IP(host): \n",
    "    \n",
    "    try:\n",
    "        zbx_dict = zapi.hostinterface.update(interfaceid=host['interfaceid'], ip=host['IP'])\n",
    "    except Exception as e:\n",
    "        print(f\"----> ERROR: {host['interfaceid']} - {host['IP']}\")\n",
    "        print(e)\n",
    "\n",
    "# create a reduced dataframe including only hosts that have an assigned IP address (public or intranet)\n",
    "df = df_clean_data[['interfaceid','IP']].copy()\n",
    "df = df.dropna()\n",
    "\n",
    "none = df.apply(update_IP, axis=1)"
   ]
  },
  {
   "cell_type": "code",
   "execution_count": 12,
   "metadata": {},
   "outputs": [],
   "source": [
    "# try to change DNS information, logging error as output for later manual processing\n",
    "def update_DNS(host): \n",
    "    try:\n",
    "        zbx_dict = zapi.hostinterface.update(interfaceid=host['interfaceid'], dns=host['DNS'])\n",
    "    except Exception as e:\n",
    "        print(f\"----> ERROR: {host['interfaceid']} - {host['DNS']}\")\n",
    "        print(e)\n",
    "\n",
    "# create a reduced dataframe including only hosts that have an assigned DNS\n",
    "df = df_clean_data[['interfaceid','DNS']].copy()\n",
    "df = df.dropna()\n",
    "\n",
    "none = df.apply(update_DNS, axis=1)"
   ]
  },
  {
   "attachments": {},
   "cell_type": "markdown",
   "metadata": {},
   "source": [
    "# Update host names"
   ]
  },
  {
   "cell_type": "code",
   "execution_count": 15,
   "metadata": {},
   "outputs": [
    {
     "name": "stdout",
     "output_type": "stream",
     "text": [
      "----> ERROR: 10605 - RFEye002233_ovpn\n",
      "('Error -32602: Invalid params., Host with the same name \"RFEye002233_ovpn\" already exists.', -32602)\n",
      "----> ERROR: 10651 - RFEye002263_ovpn\n",
      "('Error -32602: Invalid params., Host with the same name \"RFEye002263_ovpn\" already exists.', -32602)\n",
      "----> ERROR: 10652 - RFEye002264_ovpn\n",
      "('Error -32602: Invalid params., Host with the same name \"RFEye002264_ovpn\" already exists.', -32602)\n"
     ]
    }
   ],
   "source": [
    "# try to change host name information, logging error as output for later manual processing\n",
    "# errors may occur due to many possible internal Zabbix conflicts.\n",
    "def update_name(host): \n",
    "    try:\n",
    "        zbx_dict = zapi.host.update(hostid=host['hostid'], host=host['N_host_name'])\n",
    "    except Exception as e:\n",
    "        print(f\"----> ERROR: {host['hostid']} - {host['N_host_name']}\")\n",
    "        print(e)\n",
    "        \n",
    "none = df_clean_data.apply(update_name, axis=1)"
   ]
  },
  {
   "attachments": {},
   "cell_type": "markdown",
   "metadata": {},
   "source": [
    "----> ERROR: 10605 - RFEye002233_ovpn\n",
    "('Error -32602: Invalid params., Host with the same name \"RFEye002233_ovpn\" already exists.', -32602)\n",
    "----> ERROR: 10651 - RFEye002263_ovpn\n",
    "('Error -32602: Invalid params., Host with the same name \"RFEye002263_ovpn\" already exists.', -32602)\n",
    "----> ERROR: 10652 - RFEye002264_ovpn\n",
    "('Error -32602: Invalid params., Host with the same name \"RFEye002264_ovpn\" already exists.', -32602)"
   ]
  }
 ],
 "metadata": {
  "kernelspec": {
   "display_name": "zbx",
   "language": "python",
   "name": "python3"
  },
  "language_info": {
   "codemirror_mode": {
    "name": "ipython",
    "version": 3
   },
   "file_extension": ".py",
   "mimetype": "text/x-python",
   "name": "python",
   "nbconvert_exporter": "python",
   "pygments_lexer": "ipython3",
   "version": "3.11.2"
  },
  "orig_nbformat": 4
 },
 "nbformat": 4,
 "nbformat_minor": 2
}

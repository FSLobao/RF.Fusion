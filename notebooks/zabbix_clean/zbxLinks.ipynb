{
 "cells": [
  {
   "attachments": {},
   "cell_type": "markdown",
   "metadata": {},
   "source": [
    "# Zbx Clean Links\n",
    "\n",
    "This notebook was created to perform semi-automatic cleaning of Zabbix database by interacting with files for mass data review and update.\n",
    "\n",
    "### Environment setup"
   ]
  },
  {
   "cell_type": "code",
   "execution_count": 1,
   "metadata": {},
   "outputs": [],
   "source": [
    "URL_ZABBIX = \"http://zabbixsfi.anatel.gov.br/\"\n",
    "TOKEN_ZABBIX = \"<PASTE SUPER ADMIN TOKEN HERE>\"\n",
    "\n",
    "HOST_DATA = [\"hostids\", \"host\", \"name\", \"status\"]\n",
    "INTER_DATA = [\"interfaceid\",\"hostid\",\"type\",\"ip\",\"dns\",\"main\"]\n",
    "GROUP_DATA = [\"groupid\", \"name\"]\n",
    "\n",
    "HOST_INTER_CSV = \"zbxHostInterface.csv\"\n",
    "HOST_GROUP_CSV = \"zbxHostGroup.csv\"\n",
    "\n",
    "CLEAN_DATA = \"ZabbixClean.xlsx\"\n",
    "LINK_SHEET = \"OutEnlace\"\n",
    "RFEYE_SHEET = \"OutRFEye\"\n",
    "RMU_SHEET = \"OutRMU\"\n",
    "OTHER_SHEET = \"OutOutros\""
   ]
  },
  {
   "attachments": {},
   "cell_type": "markdown",
   "metadata": {},
   "source": [
    "### Includes"
   ]
  },
  {
   "cell_type": "code",
   "execution_count": 2,
   "metadata": {},
   "outputs": [],
   "source": [
    "from pyzabbix import ZabbixAPI\n",
    "\n",
    "import pandas as pd\n",
    "import numpy as np\n",
    "\n",
    "import json "
   ]
  },
  {
   "attachments": {},
   "cell_type": "markdown",
   "metadata": {},
   "source": [
    "### Create session"
   ]
  },
  {
   "cell_type": "code",
   "execution_count": 3,
   "metadata": {},
   "outputs": [],
   "source": [
    "zapi = ZabbixAPI(URL_ZABBIX)\n",
    "\n",
    "zapi.session.verify = False # Disable SSL certificate verification\n",
    "\n",
    "zapi.timeout = 5.1 #seconds\n",
    "\n",
    "zapi.login(api_token=TOKEN_ZABBIX)"
   ]
  },
  {
   "attachments": {},
   "cell_type": "markdown",
   "metadata": {},
   "source": [
    "### Load host data"
   ]
  },
  {
   "cell_type": "code",
   "execution_count": 4,
   "metadata": {},
   "outputs": [],
   "source": [
    "zbx_dict = zapi.host.get(output=HOST_DATA)\n",
    "\n",
    "df_host = pd.DataFrame(zbx_dict)"
   ]
  },
  {
   "attachments": {},
   "cell_type": "markdown",
   "metadata": {},
   "source": [
    "### Load interface data"
   ]
  },
  {
   "cell_type": "code",
   "execution_count": 5,
   "metadata": {},
   "outputs": [],
   "source": [
    "zbx_dict = zapi.hostinterface.get(output=INTER_DATA)\n",
    "\n",
    "df_inter = pd.DataFrame(zbx_dict)"
   ]
  },
  {
   "attachments": {},
   "cell_type": "markdown",
   "metadata": {},
   "source": [
    "### Load template data"
   ]
  },
  {
   "cell_type": "code",
   "execution_count": 6,
   "metadata": {},
   "outputs": [],
   "source": [
    "zbx_dict = zapi.template.get(output=\"extend\")\n",
    "\n",
    "df_template = pd.DataFrame(zbx_dict)"
   ]
  },
  {
   "cell_type": "code",
   "execution_count": 7,
   "metadata": {},
   "outputs": [
    {
     "data": {
      "text/html": [
       "<div>\n",
       "<style scoped>\n",
       "    .dataframe tbody tr th:only-of-type {\n",
       "        vertical-align: middle;\n",
       "    }\n",
       "\n",
       "    .dataframe tbody tr th {\n",
       "        vertical-align: top;\n",
       "    }\n",
       "\n",
       "    .dataframe thead th {\n",
       "        text-align: right;\n",
       "    }\n",
       "</style>\n",
       "<table border=\"1\" class=\"dataframe\">\n",
       "  <thead>\n",
       "    <tr style=\"text-align: right;\">\n",
       "      <th></th>\n",
       "      <th>proxy_hostid</th>\n",
       "      <th>host</th>\n",
       "      <th>status</th>\n",
       "      <th>lastaccess</th>\n",
       "      <th>ipmi_authtype</th>\n",
       "      <th>ipmi_privilege</th>\n",
       "      <th>ipmi_username</th>\n",
       "      <th>ipmi_password</th>\n",
       "      <th>maintenanceid</th>\n",
       "      <th>maintenance_status</th>\n",
       "      <th>...</th>\n",
       "      <th>tls_connect</th>\n",
       "      <th>tls_accept</th>\n",
       "      <th>tls_issuer</th>\n",
       "      <th>tls_subject</th>\n",
       "      <th>tls_psk_identity</th>\n",
       "      <th>tls_psk</th>\n",
       "      <th>proxy_address</th>\n",
       "      <th>auto_compress</th>\n",
       "      <th>custom_interfaces</th>\n",
       "      <th>uuid</th>\n",
       "    </tr>\n",
       "  </thead>\n",
       "  <tbody>\n",
       "    <tr>\n",
       "      <th>0</th>\n",
       "      <td>0</td>\n",
       "      <td>Template OS Linux by Zabbix agent</td>\n",
       "      <td>3</td>\n",
       "      <td>0</td>\n",
       "      <td>-1</td>\n",
       "      <td>2</td>\n",
       "      <td></td>\n",
       "      <td></td>\n",
       "      <td>0</td>\n",
       "      <td>0</td>\n",
       "      <td>...</td>\n",
       "      <td>1</td>\n",
       "      <td>1</td>\n",
       "      <td></td>\n",
       "      <td></td>\n",
       "      <td></td>\n",
       "      <td></td>\n",
       "      <td></td>\n",
       "      <td>1</td>\n",
       "      <td>0</td>\n",
       "      <td>f8f7908280354f2abeed07dc788c3747</td>\n",
       "    </tr>\n",
       "    <tr>\n",
       "      <th>1</th>\n",
       "      <td>0</td>\n",
       "      <td>Template App Zabbix Server</td>\n",
       "      <td>3</td>\n",
       "      <td>0</td>\n",
       "      <td>-1</td>\n",
       "      <td>2</td>\n",
       "      <td></td>\n",
       "      <td></td>\n",
       "      <td>0</td>\n",
       "      <td>0</td>\n",
       "      <td>...</td>\n",
       "      <td>1</td>\n",
       "      <td>1</td>\n",
       "      <td></td>\n",
       "      <td></td>\n",
       "      <td></td>\n",
       "      <td></td>\n",
       "      <td></td>\n",
       "      <td>1</td>\n",
       "      <td>0</td>\n",
       "      <td>e2d2b4e4ac28483996cc11fe42823d57</td>\n",
       "    </tr>\n",
       "    <tr>\n",
       "      <th>2</th>\n",
       "      <td>0</td>\n",
       "      <td>Template App Zabbix Proxy</td>\n",
       "      <td>3</td>\n",
       "      <td>0</td>\n",
       "      <td>-1</td>\n",
       "      <td>2</td>\n",
       "      <td></td>\n",
       "      <td></td>\n",
       "      <td>0</td>\n",
       "      <td>0</td>\n",
       "      <td>...</td>\n",
       "      <td>1</td>\n",
       "      <td>1</td>\n",
       "      <td></td>\n",
       "      <td></td>\n",
       "      <td></td>\n",
       "      <td></td>\n",
       "      <td></td>\n",
       "      <td>1</td>\n",
       "      <td>0</td>\n",
       "      <td>dd114bf0fb2f46bc84840f1bb24e2b23</td>\n",
       "    </tr>\n",
       "    <tr>\n",
       "      <th>3</th>\n",
       "      <td>0</td>\n",
       "      <td>Template Module Zabbix agent</td>\n",
       "      <td>3</td>\n",
       "      <td>0</td>\n",
       "      <td>-1</td>\n",
       "      <td>2</td>\n",
       "      <td></td>\n",
       "      <td></td>\n",
       "      <td>0</td>\n",
       "      <td>0</td>\n",
       "      <td>...</td>\n",
       "      <td>1</td>\n",
       "      <td>1</td>\n",
       "      <td></td>\n",
       "      <td></td>\n",
       "      <td></td>\n",
       "      <td></td>\n",
       "      <td></td>\n",
       "      <td>1</td>\n",
       "      <td>0</td>\n",
       "      <td>8aa4557f6c3f4aadbc03447fca3af9f6</td>\n",
       "    </tr>\n",
       "    <tr>\n",
       "      <th>4</th>\n",
       "      <td>0</td>\n",
       "      <td>Template OS OpenBSD</td>\n",
       "      <td>3</td>\n",
       "      <td>0</td>\n",
       "      <td>-1</td>\n",
       "      <td>2</td>\n",
       "      <td></td>\n",
       "      <td></td>\n",
       "      <td>0</td>\n",
       "      <td>0</td>\n",
       "      <td>...</td>\n",
       "      <td>1</td>\n",
       "      <td>1</td>\n",
       "      <td></td>\n",
       "      <td></td>\n",
       "      <td></td>\n",
       "      <td></td>\n",
       "      <td></td>\n",
       "      <td>1</td>\n",
       "      <td>0</td>\n",
       "      <td>760be6e1c2194a5bb7c0df47cc5f71ca</td>\n",
       "    </tr>\n",
       "    <tr>\n",
       "      <th>...</th>\n",
       "      <td>...</td>\n",
       "      <td>...</td>\n",
       "      <td>...</td>\n",
       "      <td>...</td>\n",
       "      <td>...</td>\n",
       "      <td>...</td>\n",
       "      <td>...</td>\n",
       "      <td>...</td>\n",
       "      <td>...</td>\n",
       "      <td>...</td>\n",
       "      <td>...</td>\n",
       "      <td>...</td>\n",
       "      <td>...</td>\n",
       "      <td>...</td>\n",
       "      <td>...</td>\n",
       "      <td>...</td>\n",
       "      <td>...</td>\n",
       "      <td>...</td>\n",
       "      <td>...</td>\n",
       "      <td>...</td>\n",
       "      <td>...</td>\n",
       "    </tr>\n",
       "    <tr>\n",
       "      <th>130</th>\n",
       "      <td>0</td>\n",
       "      <td>Template Net MTR</td>\n",
       "      <td>3</td>\n",
       "      <td>0</td>\n",
       "      <td>-1</td>\n",
       "      <td>2</td>\n",
       "      <td></td>\n",
       "      <td></td>\n",
       "      <td>0</td>\n",
       "      <td>0</td>\n",
       "      <td>...</td>\n",
       "      <td>1</td>\n",
       "      <td>1</td>\n",
       "      <td></td>\n",
       "      <td></td>\n",
       "      <td></td>\n",
       "      <td></td>\n",
       "      <td></td>\n",
       "      <td>1</td>\n",
       "      <td>0</td>\n",
       "      <td>7c6fab8b3b8048d685c1638702cc0ce4</td>\n",
       "    </tr>\n",
       "    <tr>\n",
       "      <th>131</th>\n",
       "      <td>0</td>\n",
       "      <td>ERMx FL SmartWeb</td>\n",
       "      <td>3</td>\n",
       "      <td>0</td>\n",
       "      <td>-1</td>\n",
       "      <td>2</td>\n",
       "      <td></td>\n",
       "      <td></td>\n",
       "      <td>0</td>\n",
       "      <td>0</td>\n",
       "      <td>...</td>\n",
       "      <td>1</td>\n",
       "      <td>1</td>\n",
       "      <td></td>\n",
       "      <td></td>\n",
       "      <td></td>\n",
       "      <td></td>\n",
       "      <td></td>\n",
       "      <td>1</td>\n",
       "      <td>0</td>\n",
       "      <td>37390bd6e15c4251b229c913d5032b1f</td>\n",
       "    </tr>\n",
       "    <tr>\n",
       "      <th>132</th>\n",
       "      <td>0</td>\n",
       "      <td>Volt SmartWeb</td>\n",
       "      <td>3</td>\n",
       "      <td>0</td>\n",
       "      <td>-1</td>\n",
       "      <td>2</td>\n",
       "      <td></td>\n",
       "      <td></td>\n",
       "      <td>0</td>\n",
       "      <td>0</td>\n",
       "      <td>...</td>\n",
       "      <td>1</td>\n",
       "      <td>1</td>\n",
       "      <td></td>\n",
       "      <td></td>\n",
       "      <td></td>\n",
       "      <td></td>\n",
       "      <td></td>\n",
       "      <td>1</td>\n",
       "      <td>0</td>\n",
       "      <td>51b6990a043447bdbcdbe1d275202b6d</td>\n",
       "    </tr>\n",
       "    <tr>\n",
       "      <th>133</th>\n",
       "      <td>0</td>\n",
       "      <td>CW RMU</td>\n",
       "      <td>3</td>\n",
       "      <td>0</td>\n",
       "      <td>-1</td>\n",
       "      <td>2</td>\n",
       "      <td></td>\n",
       "      <td></td>\n",
       "      <td>0</td>\n",
       "      <td>0</td>\n",
       "      <td>...</td>\n",
       "      <td>1</td>\n",
       "      <td>1</td>\n",
       "      <td></td>\n",
       "      <td></td>\n",
       "      <td></td>\n",
       "      <td></td>\n",
       "      <td></td>\n",
       "      <td>1</td>\n",
       "      <td>0</td>\n",
       "      <td>dc41c7277a9f453bb2c088b45f7084fe</td>\n",
       "    </tr>\n",
       "    <tr>\n",
       "      <th>134</th>\n",
       "      <td>0</td>\n",
       "      <td>RFEye OS Linux SNMPv2</td>\n",
       "      <td>3</td>\n",
       "      <td>0</td>\n",
       "      <td>-1</td>\n",
       "      <td>2</td>\n",
       "      <td></td>\n",
       "      <td></td>\n",
       "      <td>0</td>\n",
       "      <td>0</td>\n",
       "      <td>...</td>\n",
       "      <td>1</td>\n",
       "      <td>1</td>\n",
       "      <td></td>\n",
       "      <td></td>\n",
       "      <td></td>\n",
       "      <td></td>\n",
       "      <td></td>\n",
       "      <td>1</td>\n",
       "      <td>0</td>\n",
       "      <td>389394ca897d41ab8e2b5f682ba43c56</td>\n",
       "    </tr>\n",
       "  </tbody>\n",
       "</table>\n",
       "<p>135 rows × 26 columns</p>\n",
       "</div>"
      ],
      "text/plain": [
       "    proxy_hostid                               host status lastaccess   \n",
       "0              0  Template OS Linux by Zabbix agent      3          0  \\\n",
       "1              0         Template App Zabbix Server      3          0   \n",
       "2              0          Template App Zabbix Proxy      3          0   \n",
       "3              0       Template Module Zabbix agent      3          0   \n",
       "4              0                Template OS OpenBSD      3          0   \n",
       "..           ...                                ...    ...        ...   \n",
       "130            0                   Template Net MTR      3          0   \n",
       "131            0                   ERMx FL SmartWeb      3          0   \n",
       "132            0                      Volt SmartWeb      3          0   \n",
       "133            0                             CW RMU      3          0   \n",
       "134            0              RFEye OS Linux SNMPv2      3          0   \n",
       "\n",
       "    ipmi_authtype ipmi_privilege ipmi_username ipmi_password maintenanceid   \n",
       "0              -1              2                                         0  \\\n",
       "1              -1              2                                         0   \n",
       "2              -1              2                                         0   \n",
       "3              -1              2                                         0   \n",
       "4              -1              2                                         0   \n",
       "..            ...            ...           ...           ...           ...   \n",
       "130            -1              2                                         0   \n",
       "131            -1              2                                         0   \n",
       "132            -1              2                                         0   \n",
       "133            -1              2                                         0   \n",
       "134            -1              2                                         0   \n",
       "\n",
       "    maintenance_status  ... tls_connect tls_accept tls_issuer tls_subject   \n",
       "0                    0  ...           1          1                         \\\n",
       "1                    0  ...           1          1                          \n",
       "2                    0  ...           1          1                          \n",
       "3                    0  ...           1          1                          \n",
       "4                    0  ...           1          1                          \n",
       "..                 ...  ...         ...        ...        ...         ...   \n",
       "130                  0  ...           1          1                          \n",
       "131                  0  ...           1          1                          \n",
       "132                  0  ...           1          1                          \n",
       "133                  0  ...           1          1                          \n",
       "134                  0  ...           1          1                          \n",
       "\n",
       "    tls_psk_identity tls_psk proxy_address auto_compress custom_interfaces   \n",
       "0                                                      1                 0  \\\n",
       "1                                                      1                 0   \n",
       "2                                                      1                 0   \n",
       "3                                                      1                 0   \n",
       "4                                                      1                 0   \n",
       "..               ...     ...           ...           ...               ...   \n",
       "130                                                    1                 0   \n",
       "131                                                    1                 0   \n",
       "132                                                    1                 0   \n",
       "133                                                    1                 0   \n",
       "134                                                    1                 0   \n",
       "\n",
       "                                 uuid  \n",
       "0    f8f7908280354f2abeed07dc788c3747  \n",
       "1    e2d2b4e4ac28483996cc11fe42823d57  \n",
       "2    dd114bf0fb2f46bc84840f1bb24e2b23  \n",
       "3    8aa4557f6c3f4aadbc03447fca3af9f6  \n",
       "4    760be6e1c2194a5bb7c0df47cc5f71ca  \n",
       "..                                ...  \n",
       "130  7c6fab8b3b8048d685c1638702cc0ce4  \n",
       "131  37390bd6e15c4251b229c913d5032b1f  \n",
       "132  51b6990a043447bdbcdbe1d275202b6d  \n",
       "133  dc41c7277a9f453bb2c088b45f7084fe  \n",
       "134  389394ca897d41ab8e2b5f682ba43c56  \n",
       "\n",
       "[135 rows x 26 columns]"
      ]
     },
     "execution_count": 7,
     "metadata": {},
     "output_type": "execute_result"
    }
   ],
   "source": [
    "df_template"
   ]
  },
  {
   "attachments": {},
   "cell_type": "markdown",
   "metadata": {},
   "source": [
    "### Combine all data into a single table\n",
    "\n",
    "Note that hosts with multiple interfaces will show up in multiple rows"
   ]
  },
  {
   "cell_type": "code",
   "execution_count": 8,
   "metadata": {},
   "outputs": [],
   "source": [
    "df_full = pd.merge(df_host, df_inter, how='inner', left_on = 'hostid', right_on = 'hostid')"
   ]
  },
  {
   "attachments": {},
   "cell_type": "markdown",
   "metadata": {},
   "source": [
    "### Export host and interface data for external processing using CSV format\n",
    "\n",
    "At this point one should export data from zabbix and manipulate to create a clean XLSX spreadsheet that shall be used for the new configuration"
   ]
  },
  {
   "attachments": {},
   "cell_type": "markdown",
   "metadata": {
    "tags": [
     "on demand execution"
    ]
   },
   "source": [
    "df_full.to_csv(HOST_INTER_CSV)"
   ]
  },
  {
   "attachments": {},
   "cell_type": "markdown",
   "metadata": {},
   "source": [
    "### Import clean data for links"
   ]
  },
  {
   "cell_type": "code",
   "execution_count": 8,
   "metadata": {},
   "outputs": [],
   "source": [
    "df_link = pd.read_excel(CLEAN_DATA, sheet_name=LINK_SHEET)"
   ]
  },
  {
   "attachments": {},
   "cell_type": "markdown",
   "metadata": {},
   "source": [
    "### List all groups"
   ]
  },
  {
   "cell_type": "code",
   "execution_count": 9,
   "metadata": {},
   "outputs": [],
   "source": [
    "zbx_dict = zapi.hostgroup.get(output=GROUP_DATA)\n",
    "\n",
    "df_group = pd.DataFrame(zbx_dict)"
   ]
  },
  {
   "attachments": {},
   "cell_type": "markdown",
   "metadata": {},
   "source": [
    "### Create a dictionary with the groups to be processed"
   ]
  },
  {
   "cell_type": "code",
   "execution_count": 10,
   "metadata": {},
   "outputs": [],
   "source": [
    "all_groups = {'GP Contrato':[],\n",
    "              'GP Tecnologia de Acesso':[],\n",
    "              'GP Situação do Enlace':[],\n",
    "              'GP UF':[],}\n",
    "\n",
    "for group in all_groups:\n",
    "    np_array = df_link[group].unique()\n",
    "\n",
    "    np_array = np_array[~pd.isna(np_array)] # remove NaN \n",
    "\n",
    "    all_groups[group] = np_array.tolist()"
   ]
  },
  {
   "attachments": {},
   "cell_type": "markdown",
   "metadata": {},
   "source": [
    "### Create groups in Zabbix if necessary and associate all data within the dataframe with clean data"
   ]
  },
  {
   "cell_type": "code",
   "execution_count": 11,
   "metadata": {},
   "outputs": [],
   "source": [
    "for group_list in all_groups:\n",
    "    \n",
    "    zbx_group = {'groupid':[0]*all_groups[group_list].__len__(),\n",
    "                 'name':[\"\"]*all_groups[group_list].__len__()}\n",
    "    i = 0\n",
    "    \n",
    "    for group in all_groups[group_list]:\n",
    "        \n",
    "        where_is_group = df_group[df_group.isin([group])].stack().index #get the index from where the group is in the df from zabbix\n",
    "        \n",
    "        if len(where_is_group) == 0: #check if the group don't exist in zabbix\n",
    "            \n",
    "            zbx_dict = zapi.hostgroup.create(name=group)\n",
    "\n",
    "            zbx_group['groupid'][i] = zbx_dict['groupids']\n",
    "            zbx_group['name'][i] = group\n",
    "        else:\n",
    "            index = where_is_group.to_numpy()[0][0]\n",
    "            \n",
    "            zbx_group['groupid'][i] = df_group['groupid'][index]\n",
    "            zbx_group['name'][i] = df_group['name'][index]\n",
    "            \n",
    "        i = i + 1\n",
    "        \n",
    "    df_zbx_group = pd.DataFrame(zbx_group)\n",
    "    \n",
    "    df_link = pd.merge(df_link, df_zbx_group, how='left', left_on = group_list, right_on = 'name')\n",
    "    \n",
    "    df_link = df_link.rename(columns={\"groupid\": f\"GID {group_list}\", \"name\": f\"zbx {group_list}\"})"
   ]
  },
  {
   "attachments": {},
   "cell_type": "markdown",
   "metadata": {},
   "source": [
    "### Get hosts assigned to groups"
   ]
  },
  {
   "cell_type": "code",
   "execution_count": 12,
   "metadata": {},
   "outputs": [],
   "source": [
    "def get_group_host(zapi, df_link):\n",
    "\n",
    "    GROUP_DATA = [\"groupid\", \"name\"]\n",
    "    \n",
    "    df_output = pd.DataFrame(columns=['groupid', 'name', 'hostid'])\n",
    "\n",
    "    for hostid in df_link[\"hostid\"].to_list():\n",
    "        zbx_dict = zapi.hostgroup.get(output=GROUP_DATA, hostids=hostid)\n",
    "        \n",
    "        df = pd.DataFrame(zbx_dict)\n",
    "        df['hostid']=hostid\n",
    "        \n",
    "        df_output = pd.concat([df_output,df],ignore_index=True)\n",
    "        \n",
    "    return df_output\n",
    "\n",
    "# df_host_group = get_group_host(zapi, df_link)\n",
    "# df_host_group\n",
    "# df_host_group.to_csv(HOST_GROUP_CSV)"
   ]
  },
  {
   "attachments": {},
   "cell_type": "markdown",
   "metadata": {},
   "source": [
    "### Create a list of dictionaries with groups to be removed"
   ]
  },
  {
   "cell_type": "code",
   "execution_count": 11,
   "metadata": {},
   "outputs": [],
   "source": [
    "group_dic_list=[]\n",
    "\n",
    "df = df_group.sort_values(by=[\"groupid\"])\n",
    "group_list = df['groupid'].to_list()[1:] # get group list except the first\n",
    "\n",
    "for group in group_list:\n",
    "    group_dic_list.append({'groupid':group})"
   ]
  },
  {
   "attachments": {},
   "cell_type": "markdown",
   "metadata": {},
   "source": [
    "### Create a list of dictionaries with host to be edited"
   ]
  },
  {
   "cell_type": "code",
   "execution_count": 12,
   "metadata": {},
   "outputs": [],
   "source": [
    "host_dic_list=[]\n",
    "\n",
    "host_list = df_link[\"hostid\"].to_list()\n",
    "\n",
    "for host in host_list:\n",
    "    host_dic_list.append({'hostid':host})"
   ]
  },
  {
   "attachments": {},
   "cell_type": "markdown",
   "metadata": {},
   "source": [
    "### Select a reference default group"
   ]
  },
  {
   "cell_type": "code",
   "execution_count": 13,
   "metadata": {},
   "outputs": [],
   "source": [
    "default_group = df['groupid'].to_list()[0]\n",
    "\n",
    "group_List_dict = [{'groupid':default_group}]"
   ]
  },
  {
   "attachments": {},
   "cell_type": "markdown",
   "metadata": {},
   "source": [
    "### Add group 1 to all hosts to be edited"
   ]
  },
  {
   "cell_type": "code",
   "execution_count": 15,
   "metadata": {},
   "outputs": [],
   "source": [
    "for host in host_list:\n",
    "    zbx_dict = zapi.hostgroup.massadd(groups=default_group, hosts=[{'hostid':host}])"
   ]
  },
  {
   "attachments": {},
   "cell_type": "markdown",
   "metadata": {},
   "source": [
    "### Remove all groups from hosts, except default_group"
   ]
  },
  {
   "cell_type": "code",
   "execution_count": 16,
   "metadata": {},
   "outputs": [],
   "source": [
    "for host in host_list:\n",
    "    zbx_dict = zapi.hostgroup.massremove(groupids=group_list, hostids=host)"
   ]
  },
  {
   "attachments": {},
   "cell_type": "markdown",
   "metadata": {},
   "source": [
    "#### Add new groups from clean list"
   ]
  },
  {
   "cell_type": "code",
   "execution_count": null,
   "metadata": {},
   "outputs": [],
   "source": [
    "def add_group(host):\n",
    "    group_list = [{'groupid':host['GID GP Contrato']},\n",
    "                  {'groupid':host['GID GP Tecnologia de Acesso']},\n",
    "                  {'groupid':host['GID GP Situação do Enlace']},\n",
    "                  {'groupid':host['GID GP UF']}]\n",
    "    \n",
    "    zbx_dict = zapi.hostgroup.massadd(groups=group_list, hosts=[{'hostid':host['hostid']}])\n",
    "    \n",
    "df_link.apply(add_group, axis=1)"
   ]
  },
  {
   "attachments": {},
   "cell_type": "markdown",
   "metadata": {},
   "source": [
    "### Remove default group"
   ]
  },
  {
   "cell_type": "code",
   "execution_count": 11,
   "metadata": {},
   "outputs": [],
   "source": [
    "for host in host_list:\n",
    "    zbx_dict = zapi.hostgroup.massremove(groupids=[default_group], hostids=[host])"
   ]
  },
  {
   "attachments": {},
   "cell_type": "markdown",
   "metadata": {},
   "source": [
    "### Change Host Visible Name "
   ]
  },
  {
   "cell_type": "code",
   "execution_count": 18,
   "metadata": {},
   "outputs": [],
   "source": [
    "def set_name(host):\n",
    "    zbx_dict = zapi.host.update(hostid=host['hostid'], name=host['New Visible Name (name)'])\n",
    "    \n",
    "none = df_link.apply(set_name, axis=1)"
   ]
  },
  {
   "attachments": {},
   "cell_type": "markdown",
   "metadata": {},
   "source": [
    "### Remove all inventory data"
   ]
  },
  {
   "cell_type": "code",
   "execution_count": 35,
   "metadata": {},
   "outputs": [],
   "source": [
    "CLEAN_INVENTORY = { 'alias' : '',\n",
    "                    'asset_tag' : '',\n",
    "                    'chassis' : '',\n",
    "                    'contact' : '',\n",
    "                    'contract_number' : '',\n",
    "                    'date_hw_decomm' : '',\n",
    "                    'date_hw_expiry' : '',\n",
    "                    'date_hw_install' : '',\n",
    "                    'date_hw_purchase' : '',\n",
    "                    'deployment_status' : '',\n",
    "                    'hardware' : '',\n",
    "                    'hardware_full' : '',\n",
    "                    'host_netmask' : '',\n",
    "                    'host_networks' : '',\n",
    "                    'host_router' : '',\n",
    "                    'hw_arch' : '',\n",
    "                    'installer_name' : '',\n",
    "                    'location' : '',\n",
    "                    'location_lat' : '',\n",
    "                    'location_lon' : '',\n",
    "                    'macaddress_a' : '',\n",
    "                    'macaddress_b' : '',\n",
    "                    'model' : '',\n",
    "                    'name' : '',\n",
    "                    'notes' : '',\n",
    "                    'oob_ip' : '',\n",
    "                    'oob_netmask' : '',\n",
    "                    'oob_router' : '',\n",
    "                    'os' : '',\n",
    "                    'os_full' : '',\n",
    "                    'os_short' : '',\n",
    "                    'poc_1_cell' : '',\n",
    "                    'poc_1_email' : '',\n",
    "                    'poc_1_name' : '',\n",
    "                    'poc_1_notes' : '',\n",
    "                    'poc_1_phone_a' : '',\n",
    "                    'poc_1_phone_b' : '',\n",
    "                    'poc_1_screen' : '',\n",
    "                    'poc_2_cell' : '',\n",
    "                    'poc_2_email' : '',\n",
    "                    'poc_2_name' : '',\n",
    "                    'poc_2_notes' : '',\n",
    "                    'poc_2_phone_a' : '',\n",
    "                    'poc_2_phone_b' : '',\n",
    "                    'poc_2_screen' : '',\n",
    "                    'serialno_a' : '',\n",
    "                    'serialno_b' : '',\n",
    "                    'site_address_a' : '',\n",
    "                    'site_address_b' : '',\n",
    "                    'site_address_c' : '',\n",
    "                    'site_city' : '',\n",
    "                    'site_country' : '',\n",
    "                    'site_notes' : '',\n",
    "                    'site_rack' : '',\n",
    "                    'site_state' : '',\n",
    "                    'site_zip' : '',\n",
    "                    'software' : '',\n",
    "                    'software_app_a' : '',\n",
    "                    'software_app_b' : '',\n",
    "                    'software_app_c' : '',\n",
    "                    'software_app_d' : '',\n",
    "                    'software_app_e' : '',\n",
    "                    'software_full' : '',\n",
    "                    'tag' : '',\n",
    "                    'type' : '',\n",
    "                    'type_full' : '',\n",
    "                    'url_a' : '',\n",
    "                    'url_b' : '',\n",
    "                    'url_c' : '',\n",
    "                    'vendor' : ''}\n",
    "\n",
    "def set_inventory(host):    \n",
    "    zbx_dict = zapi.host.update(hostid=host['hostid'], inventory_mode='0', inventory=CLEAN_INVENTORY)\n",
    "    \n",
    "none = df_link.apply(set_inventory, axis=1)"
   ]
  },
  {
   "attachments": {},
   "cell_type": "markdown",
   "metadata": {},
   "source": [
    "### Add inventory data"
   ]
  },
  {
   "cell_type": "code",
   "execution_count": 36,
   "metadata": {},
   "outputs": [],
   "source": [
    "def set_inventory(host):\n",
    "    inventory = {'location_lat' : f\"{host['Latitude']}\",\n",
    "                 'location_lon' : f\"{host['Longitude']}\",\n",
    "                 'contract_number' : host['GP Contrato'],\n",
    "                 'site_city' :       host['Tag Município'],\n",
    "                 'site_state':       host['GP UF'],\n",
    "                 'alias':            host['Tag Local']}\n",
    "    \n",
    "    zbx_dict = zapi.host.update(hostid=host['hostid'], inventory_mode='0', inventory=inventory)\n",
    "    \n",
    "none = df_link.apply(set_inventory, axis=1)"
   ]
  },
  {
   "attachments": {},
   "cell_type": "markdown",
   "metadata": {},
   "source": [
    "### Clean Tags"
   ]
  },
  {
   "cell_type": "code",
   "execution_count": 37,
   "metadata": {},
   "outputs": [],
   "source": [
    "def set_tag(host):\n",
    "    zbx_dict = zapi.host.update(hostid=host['hostid'], tags={})\n",
    "    \n",
    "none = df_link.apply(set_tag, axis=1)"
   ]
  },
  {
   "attachments": {},
   "cell_type": "markdown",
   "metadata": {},
   "source": [
    "### Add tag data"
   ]
  },
  {
   "cell_type": "code",
   "execution_count": 40,
   "metadata": {},
   "outputs": [],
   "source": [
    "def set_tag(host):\n",
    "    tag = [{'tag' : 'Local', 'value' : host['Tag Local']},\n",
    "           {'tag' : 'Município', 'value' : host['Tag Município']}]\n",
    "    \n",
    "    zbx_dict = zapi.host.update(hostid=host['hostid'], tags=tag)\n",
    "    \n",
    "none = df_link.apply(set_tag, axis=1)"
   ]
  }
 ],
 "metadata": {
  "kernelspec": {
   "display_name": "zbx",
   "language": "python",
   "name": "python3"
  },
  "language_info": {
   "codemirror_mode": {
    "name": "ipython",
    "version": 3
   },
   "file_extension": ".py",
   "mimetype": "text/x-python",
   "name": "python",
   "nbconvert_exporter": "python",
   "pygments_lexer": "ipython3",
   "version": "3.11.2"
  },
  "orig_nbformat": 4
 },
 "nbformat": 4,
 "nbformat_minor": 2
}
